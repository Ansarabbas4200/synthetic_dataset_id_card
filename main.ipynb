{
 "cells": [
  {
   "attachments": {},
   "cell_type": "markdown",
   "metadata": {},
   "source": [
    "### Synthetic dataset of Pakistani ID card signatures"
   ]
  },
  {
   "cell_type": "code",
   "execution_count": 25,
   "metadata": {},
   "outputs": [],
   "source": [
    "from PIL import Image\n",
    "import matplotlib.pyplot as plt \n",
    "import cv2\n",
    "import numpy as np\n",
    "import os\n",
    "import json"
   ]
  },
  {
   "cell_type": "code",
   "execution_count": 66,
   "metadata": {},
   "outputs": [],
   "source": [
    "file_name = {}\n",
    "for _, _, files in os.walk (\"./dataset/\", followlinks=False):\n",
    "    file_name['signature_data'] = files\n",
    "# Writing Json file\n",
    "with open(\"./dataset/sample.json\", \"w\") as outfile:\n",
    "    json.dump(file_name, outfile)\n",
    "# print(json_object)\n"
   ]
  },
  {
   "cell_type": "code",
   "execution_count": 52,
   "metadata": {},
   "outputs": [],
   "source": [
    "# Function to make sign transparent\n",
    "def make_transparent(im_array):\n",
    "    \n",
    "    gray = cv2.cvtColor(im_array, cv2.COLOR_BGR2GRAY)\n",
    "\n",
    "    mask = cv2.threshold(gray, 250, 255, cv2.THRESH_BINARY)[1]\n",
    "    mask = 255 - mask\n",
    "\n",
    "    kernel = np.ones((3,3), np.uint8)\n",
    "    mask = cv2.morphologyEx(mask, cv2.MORPH_OPEN, kernel)\n",
    "    mask = cv2.morphologyEx(mask, cv2.MORPH_CLOSE, kernel)\n",
    "\n",
    "    mask = cv2.GaussianBlur(mask, (0,0), sigmaX=2, sigmaY=2, borderType = cv2.BORDER_DEFAULT)\n",
    "\n",
    "    mask = (2*(mask.astype(np.float32))-255.0).clip(0,255).astype(np.uint8)\n",
    "    result = im_array.copy()\n",
    "\n",
    "    result = cv2.cvtColor(result, cv2.COLOR_BGR2BGRA)\n",
    "    result[:, :, 3] = mask\n",
    "    return result\n",
    "\n",
    "\n"
   ]
  },
  {
   "cell_type": "code",
   "execution_count": 71,
   "metadata": {},
   "outputs": [],
   "source": [
    "def merge_two_images(id_card, signature):\n",
    "\n",
    "    # Resize the boy image to fit the road image\n",
    "    signature = cv2.resize(signature, (int(signature.shape[1] * 0.5), int(signature.shape[0] * 0.5)))\n",
    "\n",
    "\n",
    "    # Extract the alpha channel of the boy image\n",
    "    alpha = signature[:, :, 3] / 255.0\n",
    "\n",
    "    # Convert the boy image to BGR without the alpha channel\n",
    "    signature = signature[:, :, :3]\n",
    "\n",
    "\n",
    "    # Resize the alpha channel to the same size as the boy image\n",
    "    alpha = cv2.resize(alpha, signature.shape[:2][::-1])\n",
    "\n",
    "    # Calculate the foreground and background by multiplying the images and alpha channel\n",
    "    foreground = alpha[..., None] * signature\n",
    "    background = (1 - alpha[..., None]) * id_card[:signature.shape[0], :signature.shape[1]]\n",
    "\n",
    "    # Combine the foreground and background using the cv2.addWeighted function\n",
    "    result = cv2.addWeighted(background.astype(np.uint8), 1, foreground.astype(np.uint8), 1, 0)\n",
    "\n",
    "    return result\n",
    "\n",
    "\n"
   ]
  },
  {
   "cell_type": "code",
   "execution_count": 58,
   "metadata": {},
   "outputs": [],
   "source": [
    "for items in file_name.values():\n",
    "    # image_name = next(iter(value))\n",
    "    \n",
    "    for file in items:\n",
    "        my_file  = cv2.imread(f'./dataset/{file}')\n",
    "\n",
    "        transparent = make_transparent(my_file)\n",
    "        \n",
    "        if not os.path.exists('transparent_dataset'):\n",
    "            os.makedirs('transparent_dataset')\n",
    "        img_name = file.split('.')[0]\n",
    "        cv2.imwrite(f'transparent_dataset/{img_name}.png', transparent)\n"
   ]
  },
  {
   "cell_type": "code",
   "execution_count": 93,
   "metadata": {},
   "outputs": [],
   "source": [
    "#Reading files from transparent directory\n",
    "for _, _, files in os.walk (\"./transparent_dataset/\", followlinks=False):\n",
    "\n",
    "    for image in files: \n",
    "        id_card = cv2.imread('id_card_template.jpg')\n",
    "        signature = cv2.imread(f\"./transparent_dataset/{image}\", cv2.IMREAD_UNCHANGED)\n",
    "        \n",
    "        final_result = merge_two_images(id_card, signature)\n",
    "        \n",
    "        \n",
    "        \n",
    "        if not os.path.exists('final_results'):\n",
    "            os.makedirs('final_results')\n",
    "        img_name = image.split('.')[0]\n",
    "        cv2.imwrite(f'./final_results/{img_name}_card.jpg', final_result)\n",
    "        \n",
    "        \n",
    "        \n",
    "        \n",
    "    \n",
    "\n",
    "        "
   ]
  }
 ],
 "metadata": {
  "kernelspec": {
   "display_name": "base",
   "language": "python",
   "name": "python3"
  },
  "language_info": {
   "codemirror_mode": {
    "name": "ipython",
    "version": 3
   },
   "file_extension": ".py",
   "mimetype": "text/x-python",
   "name": "python",
   "nbconvert_exporter": "python",
   "pygments_lexer": "ipython3",
   "version": "3.9.13"
  },
  "orig_nbformat": 4
 },
 "nbformat": 4,
 "nbformat_minor": 2
}
